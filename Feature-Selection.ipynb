{
 "cells": [
  {
   "cell_type": "markdown",
   "metadata": {},
   "source": [
    "Import all libraries that we want to use"
   ]
  },
  {
   "cell_type": "code",
   "execution_count": 1,
   "metadata": {},
   "outputs": [],
   "source": [
    "import numpy as np\n",
    "from sklearn.datasets import load_digits\n",
    "from sklearn.linear_model import LogisticRegression\n",
    "from sklearn.feature_selection import mutual_info_classif\n",
    "from sklearn.model_selection import train_test_split\n",
    "from sklearn.preprocessing import KBinsDiscretizer\n",
    "from sklearn.metrics import accuracy_score\n",
    "import warnings"
   ]
  },
  {
   "cell_type": "markdown",
   "metadata": {},
   "source": [
    "Set our optimal C parameter to 1.5"
   ]
  },
  {
   "cell_type": "code",
   "execution_count": 2,
   "metadata": {},
   "outputs": [],
   "source": [
    "optimal_C = 1.5"
   ]
  },
  {
   "cell_type": "markdown",
   "metadata": {},
   "source": [
    "ignore the library Warnings"
   ]
  },
  {
   "cell_type": "code",
   "execution_count": 3,
   "metadata": {},
   "outputs": [],
   "source": [
    "warnings.filterwarnings(\"ignore\", category=FutureWarning)\n",
    "warnings.filterwarnings(\"ignore\", category=UserWarning)"
   ]
  },
  {
   "cell_type": "markdown",
   "metadata": {},
   "source": [
    "Load the digits dataset from sklearn"
   ]
  },
  {
   "cell_type": "code",
   "execution_count": 4,
   "metadata": {},
   "outputs": [],
   "source": [
    "digits = load_digits()\n",
    "X, y = digits.data, digits.target"
   ]
  },
  {
   "cell_type": "markdown",
   "metadata": {},
   "source": [
    "split the features by using KBinsDiscretizer func"
   ]
  },
  {
   "cell_type": "code",
   "execution_count": 5,
   "metadata": {},
   "outputs": [],
   "source": [
    "splitTo3 = KBinsDiscretizer(n_bins=3, encode='ordinal', strategy='uniform')\n",
    "x_split = splitTo3.fit_transform(X)"
   ]
  },
  {
   "cell_type": "markdown",
   "metadata": {},
   "source": [
    "THe Greedy Feature Selection Function"
   ]
  },
  {
   "cell_type": "code",
   "execution_count": 6,
   "metadata": {},
   "outputs": [],
   "source": [
    "\n",
    "def greedy_feature_selection(X, y, num_features):\n",
    "    important_features = []\n",
    "    features = list(range(X.shape[1]))\n",
    "    count = 0\n",
    "    \n",
    "    while count < num_features:\n",
    "        top_score = 0\n",
    "        top_feature = None\n",
    "        feature_index = 0\n",
    "        \n",
    "        while feature_index < len(features):\n",
    "            feature = features[feature_index]\n",
    "            current_features = important_features + [feature]\n",
    "            X_subset = X[:, current_features]\n",
    "            \n",
    "            X_train, X_val, y_train, y_val = train_test_split(X_subset, y, test_size=0.3, random_state=42)\n",
    "            model = LogisticRegression(penalty='l2', C=optimal_C, solver='liblinear', multi_class='ovr')\n",
    "            model.fit(X_train, y_train)\n",
    "            score = accuracy_score(y_val, model.predict(X_val))\n",
    "            \n",
    "            if score > top_score:\n",
    "                top_score = score\n",
    "                top_feature = feature\n",
    "            \n",
    "            feature_index += 1\n",
    "        \n",
    "        important_features.append(top_feature)\n",
    "        features.remove(top_feature)\n",
    "        count += 1\n",
    "        \n",
    "    return important_features"
   ]
  },
  {
   "cell_type": "markdown",
   "metadata": {},
   "source": [
    "The Mutual Information Feature Selection Function"
   ]
  },
  {
   "cell_type": "code",
   "execution_count": 7,
   "metadata": {},
   "outputs": [],
   "source": [
    "def mutual_Info_feature_selection(X, y, num_features):\n",
    "    mutual_Info_scores = mutual_info_classif(X, y, discrete_features=True)\n",
    "    top_features = np.argsort(mutual_Info_scores)[-num_features:]\n",
    "    return top_features"
   ]
  },
  {
   "cell_type": "markdown",
   "metadata": {},
   "source": [
    "Select Important Features using Greedy Algorithm"
   ]
  },
  {
   "cell_type": "code",
   "execution_count": 8,
   "metadata": {},
   "outputs": [],
   "source": [
    "important_features_greedy = greedy_feature_selection(X, y, 5)"
   ]
  },
  {
   "cell_type": "markdown",
   "metadata": {},
   "source": [
    "Select Important Features using Mutual Information Method"
   ]
  },
  {
   "cell_type": "code",
   "execution_count": 9,
   "metadata": {},
   "outputs": [],
   "source": [
    "important_features_mi = mutual_Info_feature_selection(x_split, y, 5)"
   ]
  },
  {
   "cell_type": "markdown",
   "metadata": {},
   "source": [
    "Define function to evaluate model accuracy"
   ]
  },
  {
   "cell_type": "code",
   "execution_count": 10,
   "metadata": {},
   "outputs": [],
   "source": [
    "def evaluate_model(X, y, important_features):\n",
    "    X_subset = X[:, important_features]\n",
    "    X_train, X_val, y_train, y_val = train_test_split(X_subset, y, test_size=0.3, random_state=42)\n",
    "    model = LogisticRegression(penalty='l2', C=optimal_C, solver='liblinear', multi_class='ovr')\n",
    "    model.fit(X_train, y_train)\n",
    "    score = accuracy_score(y_val, model.predict(X_val))\n",
    "    return score"
   ]
  },
  {
   "cell_type": "markdown",
   "metadata": {},
   "source": [
    "Evaluate the greedy algorithm with selected features"
   ]
  },
  {
   "cell_type": "code",
   "execution_count": 11,
   "metadata": {},
   "outputs": [],
   "source": [
    "greedy_score = evaluate_model(X, y, important_features_greedy)"
   ]
  },
  {
   "cell_type": "markdown",
   "metadata": {},
   "source": [
    "Evaluate the mutual information method with selected features"
   ]
  },
  {
   "cell_type": "code",
   "execution_count": 12,
   "metadata": {},
   "outputs": [],
   "source": [
    "mutual_Info_score = evaluate_model(X, y, important_features_mi)"
   ]
  },
  {
   "cell_type": "markdown",
   "metadata": {},
   "source": [
    "Print important features and accuracy results"
   ]
  },
  {
   "cell_type": "code",
   "execution_count": 13,
   "metadata": {},
   "outputs": [
    {
     "name": "stdout",
     "output_type": "stream",
     "text": [
      "The important features by using Greedy Algorithm: [21, 42, 36, 26, 61]\n",
      "Accuracy with Greedy Algorithm important features: 0.762962962962963\n",
      "The important features by using MI method: [43 21 34 42 26]\n",
      "Accuracy with MI method important features: 0.7129629629629629\n",
      "Greedy algorithm performed better.\n"
     ]
    }
   ],
   "source": [
    "print(\"The important features by using Greedy Algorithm:\", important_features_greedy)\n",
    "print(\"Accuracy with Greedy Algorithm important features:\", greedy_score)\n",
    "\n",
    "print(\"The important features by using MI method:\", important_features_mi)\n",
    "print(\"Accuracy with MI method important features:\",  mutual_Info_score)\n",
    "\n",
    "\n",
    "if greedy_score > mutual_Info_score:\n",
    "    print(\"Greedy algorithm performed better.\")\n",
    "else:\n",
    "    print(\"MI method performed better.\")"
   ]
  }
 ],
 "metadata": {
  "kernelspec": {
   "display_name": "Python 3",
   "language": "python",
   "name": "python3"
  },
  "language_info": {
   "codemirror_mode": {
    "name": "ipython",
    "version": 3
   },
   "file_extension": ".py",
   "mimetype": "text/x-python",
   "name": "python",
   "nbconvert_exporter": "python",
   "pygments_lexer": "ipython3",
   "version": "3.11.0"
  }
 },
 "nbformat": 4,
 "nbformat_minor": 2
}
